{
 "cells": [
  {
   "cell_type": "code",
   "execution_count": 1,
   "id": "662e7257",
   "metadata": {},
   "outputs": [
    {
     "name": "stderr",
     "output_type": "stream",
     "text": [
      "/home/zhizhen/anaconda3/envs/neural_cbf/lib/python3.8/site-packages/tqdm/auto.py:22: TqdmWarning: IProgress not found. Please update jupyter and ipywidgets. See https://ipywidgets.readthedocs.io/en/stable/user_install.html\n",
      "  from .autonotebook import tqdm as notebook_tqdm\n"
     ]
    }
   ],
   "source": [
    "import time\n",
    "import torch"
   ]
  },
  {
   "cell_type": "code",
   "execution_count": 2,
   "id": "90b8b624",
   "metadata": {},
   "outputs": [],
   "source": [
    "import torch.nn as nn"
   ]
  },
  {
   "cell_type": "code",
   "execution_count": null,
   "id": "6577c7d6",
   "metadata": {},
   "outputs": [],
   "source": []
  },
  {
   "cell_type": "code",
   "execution_count": 3,
   "id": "9aa57181",
   "metadata": {},
   "outputs": [],
   "source": [
    "# utilities\n",
    "from cbfverify_barrier_fastlin import get_weights"
   ]
  },
  {
   "cell_type": "code",
   "execution_count": 4,
   "id": "a06bef08",
   "metadata": {},
   "outputs": [],
   "source": [
    "# Output bounds, Batch\n",
    "from cbfverify_barrier_fastlin_batch import get_barrier_bounds_fastlin_batch\n",
    "\n",
    "# Output bounds, Original (Non-Batch)\n",
    "from cbfverify_barrier_fastlin import get_barrier_bounds_fastlin"
   ]
  },
  {
   "cell_type": "code",
   "execution_count": 5,
   "id": "55ba975e",
   "metadata": {},
   "outputs": [],
   "source": [
    "# Lie bounds, Batch (originally supported)\n",
    "from cbfverify_lie import get_lie_derivative_bounds"
   ]
  },
  {
   "cell_type": "code",
   "execution_count": null,
   "id": "747aceed",
   "metadata": {},
   "outputs": [],
   "source": []
  },
  {
   "cell_type": "code",
   "execution_count": 6,
   "id": "0076d596",
   "metadata": {},
   "outputs": [],
   "source": [
    "# 1-layer network with ReLU activation\n",
    "dim_in, dim_out, num_hidden, num_batch = 3, 1, 256, 1\n",
    "model = nn.Sequential(\n",
    "    nn.Linear(dim_in,num_hidden),\n",
    "    nn.ReLU(),\n",
    "    nn.Linear(num_hidden,dim_out)\n",
    ")"
   ]
  },
  {
   "cell_type": "code",
   "execution_count": 7,
   "id": "6b4bf5f7",
   "metadata": {},
   "outputs": [
    {
     "data": {
      "text/plain": [
       "Sequential(\n",
       "  (0): Linear(in_features=3, out_features=256, bias=True)\n",
       "  (1): ReLU()\n",
       "  (2): Linear(in_features=256, out_features=1, bias=True)\n",
       ")"
      ]
     },
     "execution_count": 7,
     "metadata": {},
     "output_type": "execute_result"
    }
   ],
   "source": [
    "def init_weights(m):\n",
    "    if isinstance(m, nn.Linear):\n",
    "        torch.nn.init.xavier_uniform_(m.weight)\n",
    "        m.bias.data.fill_(0.01)\n",
    "\n",
    "model.apply(init_weights)"
   ]
  },
  {
   "cell_type": "code",
   "execution_count": 8,
   "id": "02ac2d50",
   "metadata": {},
   "outputs": [
    {
     "name": "stdout",
     "output_type": "stream",
     "text": [
      "W0:torch.Size([256, 3])\n",
      "b0:torch.Size([256])\n",
      "W1:torch.Size([1, 256])\n",
      "b1:torch.Size([1])\n"
     ]
    }
   ],
   "source": [
    "Ws, bs = get_weights(model)"
   ]
  },
  {
   "cell_type": "code",
   "execution_count": 9,
   "id": "4d67991d",
   "metadata": {},
   "outputs": [],
   "source": [
    "# 10k samples\n",
    "num_sample = 10000\n",
    "x0 = torch.rand(dim_in,num_sample) # shape: (dim_in, num_batch)"
   ]
  },
  {
   "cell_type": "code",
   "execution_count": 10,
   "id": "9afedd0b",
   "metadata": {},
   "outputs": [],
   "source": [
    "# perturbation magnitude\n",
    "eps = 0.1"
   ]
  },
  {
   "cell_type": "markdown",
   "id": "9a3e0ea3",
   "metadata": {},
   "source": [
    "## Network Output Bounds, FastLin"
   ]
  },
  {
   "cell_type": "code",
   "execution_count": 11,
   "id": "40928e6a",
   "metadata": {},
   "outputs": [],
   "source": [
    "start = time.time()\n",
    "non_batch_UBs = []\n",
    "non_batch_LBs = []\n",
    "for i in range(x0.shape[1]):\n",
    "    x = x0[:,[i]]\n",
    "    UBs, LBs = get_barrier_bounds_fastlin(x, eps, Ws, bs, method=\"fastlin\", activation=\"relu\")\n",
    "    non_batch_UBs.append(UBs[-1][0, 0])\n",
    "    non_batch_LBs.append(LBs[-1][0, 0])\n",
    "fastlin_elapsed_non_batch = time.time() - start"
   ]
  },
  {
   "cell_type": "code",
   "execution_count": 12,
   "id": "e4966bc7",
   "metadata": {},
   "outputs": [
    {
     "name": "stdout",
     "output_type": "stream",
     "text": [
      "Time elapsed (non_batch version): 4.515855312347412\n"
     ]
    }
   ],
   "source": [
    "print(\"Time elapsed (non_batch version): {}\".format(fastlin_elapsed_non_batch))"
   ]
  },
  {
   "cell_type": "code",
   "execution_count": 13,
   "id": "1d2b6037",
   "metadata": {},
   "outputs": [],
   "source": [
    "non_batch_UBs = torch.FloatTensor(non_batch_UBs)\n",
    "non_batch_LBs = torch.FloatTensor(non_batch_LBs)"
   ]
  },
  {
   "cell_type": "code",
   "execution_count": 14,
   "id": "a347a0e4",
   "metadata": {},
   "outputs": [],
   "source": [
    "start = time.time()\n",
    "UBs, LBs = get_barrier_bounds_fastlin_batch(x0, eps, Ws, bs, method=\"fastlin\", activation=\"relu\")\n",
    "fastlin_elapsed_batch = time.time() - start"
   ]
  },
  {
   "cell_type": "code",
   "execution_count": 15,
   "id": "55a8e974",
   "metadata": {},
   "outputs": [
    {
     "name": "stdout",
     "output_type": "stream",
     "text": [
      "Time elapsed (batched version): 0.7702548503875732\n"
     ]
    }
   ],
   "source": [
    "print(\"Time elapsed (batched version): {}\".format(fastlin_elapsed_batch))"
   ]
  },
  {
   "cell_type": "code",
   "execution_count": 16,
   "id": "73bc58af",
   "metadata": {},
   "outputs": [],
   "source": [
    "batch_UBs = UBs[-1].squeeze()\n",
    "batch_LBs = LBs[-1].squeeze()"
   ]
  },
  {
   "cell_type": "code",
   "execution_count": 17,
   "id": "92c35d66-f108-4ac9-9327-8d24c6b24e94",
   "metadata": {},
   "outputs": [
    {
     "data": {
      "text/plain": [
       "tensor([-0.0257,  0.1259,  0.1678,  ..., -0.0176,  0.0610,  0.1590])"
      ]
     },
     "execution_count": 17,
     "metadata": {},
     "output_type": "execute_result"
    }
   ],
   "source": [
    "batch_UBs"
   ]
  },
  {
   "cell_type": "code",
   "execution_count": 18,
   "id": "a83e90f8-bf98-47c4-968a-1c2351f8101e",
   "metadata": {},
   "outputs": [
    {
     "data": {
      "text/plain": [
       "tensor([-0.1087,  0.0055,  0.0750,  ..., -0.0937, -0.0393,  0.0640])"
      ]
     },
     "execution_count": 18,
     "metadata": {},
     "output_type": "execute_result"
    }
   ],
   "source": [
    "batch_LBs"
   ]
  },
  {
   "cell_type": "markdown",
   "id": "cf541724",
   "metadata": {},
   "source": [
    "### Check output bounds correctness"
   ]
  },
  {
   "cell_type": "code",
   "execution_count": 19,
   "id": "b1fd2c2a",
   "metadata": {
    "scrolled": true
   },
   "outputs": [
    {
     "data": {
      "text/plain": [
       "True"
      ]
     },
     "execution_count": 19,
     "metadata": {},
     "output_type": "execute_result"
    }
   ],
   "source": [
    "torch.allclose(non_batch_UBs, batch_UBs, atol=1e-07)"
   ]
  },
  {
   "cell_type": "code",
   "execution_count": 20,
   "id": "2b2462d6",
   "metadata": {
    "scrolled": true
   },
   "outputs": [
    {
     "data": {
      "text/plain": [
       "True"
      ]
     },
     "execution_count": 20,
     "metadata": {},
     "output_type": "execute_result"
    }
   ],
   "source": [
    "torch.allclose(non_batch_LBs, batch_LBs, atol=1e-07)"
   ]
  },
  {
   "cell_type": "markdown",
   "id": "bb01111f-8888-4661-af05-63930297a4e3",
   "metadata": {},
   "source": [
    "## Network Output Bounds, CROWN"
   ]
  },
  {
   "cell_type": "code",
   "execution_count": 21,
   "id": "c11151f9-9ceb-492e-8419-8c938a1a2795",
   "metadata": {},
   "outputs": [],
   "source": [
    "start = time.time()\n",
    "non_batch_UBs = []\n",
    "non_batch_LBs = []\n",
    "for i in range(x0.shape[1]):\n",
    "    x = x0[:,[i]]\n",
    "    UBs, LBs = get_barrier_bounds_fastlin(x, eps, Ws, bs, method=\"crown\", activation=\"relu\")\n",
    "    non_batch_UBs.append(UBs[-1][0, 0])\n",
    "    non_batch_LBs.append(LBs[-1][0, 0])\n",
    "fastlin_elapsed_non_batch = time.time() - start"
   ]
  },
  {
   "cell_type": "code",
   "execution_count": 22,
   "id": "9e6b4957-a932-48c0-95f2-3047e902cadc",
   "metadata": {},
   "outputs": [
    {
     "name": "stdout",
     "output_type": "stream",
     "text": [
      "Time elapsed (non_batch version): 4.323939561843872\n"
     ]
    }
   ],
   "source": [
    "print(\"Time elapsed (non_batch version): {}\".format(fastlin_elapsed_non_batch))"
   ]
  },
  {
   "cell_type": "code",
   "execution_count": 23,
   "id": "56d8b5ce-c719-4781-ad14-fd32efd53684",
   "metadata": {},
   "outputs": [],
   "source": [
    "non_batch_UBs = torch.FloatTensor(non_batch_UBs)\n",
    "non_batch_LBs = torch.FloatTensor(non_batch_LBs)"
   ]
  },
  {
   "cell_type": "code",
   "execution_count": 24,
   "id": "863d88aa-aa19-4730-be30-823ecd6a1845",
   "metadata": {},
   "outputs": [],
   "source": [
    "start = time.time()\n",
    "UBs, LBs = get_barrier_bounds_fastlin_batch(x0, eps, Ws, bs, method=\"crown\", activation=\"relu\")\n",
    "fastlin_elapsed_batch = time.time() - start"
   ]
  },
  {
   "cell_type": "code",
   "execution_count": 25,
   "id": "8485252e-e8dc-425f-b26f-b3fe13a1f9d3",
   "metadata": {},
   "outputs": [
    {
     "name": "stdout",
     "output_type": "stream",
     "text": [
      "Time elapsed (batched version): 0.765021562576294\n"
     ]
    }
   ],
   "source": [
    "print(\"Time elapsed (batched version): {}\".format(fastlin_elapsed_batch))"
   ]
  },
  {
   "cell_type": "code",
   "execution_count": 26,
   "id": "33678b25-3d20-482d-82ac-771c0c053f92",
   "metadata": {},
   "outputs": [],
   "source": [
    "batch_UBs = UBs[-1].squeeze()\n",
    "batch_LBs = LBs[-1].squeeze()"
   ]
  },
  {
   "cell_type": "code",
   "execution_count": 27,
   "id": "a52b5db4-c5b5-4138-a99e-5228b99d7f5d",
   "metadata": {},
   "outputs": [
    {
     "data": {
      "text/plain": [
       "tensor([-0.0250,  0.1228,  0.1636,  ..., -0.0199,  0.0626,  0.1565])"
      ]
     },
     "execution_count": 27,
     "metadata": {},
     "output_type": "execute_result"
    }
   ],
   "source": [
    "batch_UBs"
   ]
  },
  {
   "cell_type": "code",
   "execution_count": 28,
   "id": "dce326d3-a47f-4bed-9eca-c8ce95cc35a7",
   "metadata": {},
   "outputs": [
    {
     "data": {
      "text/plain": [
       "tensor([-0.1078,  0.0067,  0.0785,  ..., -0.0923, -0.0330,  0.0648])"
      ]
     },
     "execution_count": 28,
     "metadata": {},
     "output_type": "execute_result"
    }
   ],
   "source": [
    "batch_LBs"
   ]
  },
  {
   "cell_type": "markdown",
   "id": "23ff34e4-679f-4772-a035-9e5890e83075",
   "metadata": {},
   "source": [
    "### Check output bounds correctness"
   ]
  },
  {
   "cell_type": "code",
   "execution_count": 29,
   "id": "2fea14e8-3c3f-458f-a087-8ec7526d7a2e",
   "metadata": {
    "scrolled": true
   },
   "outputs": [
    {
     "data": {
      "text/plain": [
       "True"
      ]
     },
     "execution_count": 29,
     "metadata": {},
     "output_type": "execute_result"
    }
   ],
   "source": [
    "torch.allclose(non_batch_UBs, batch_UBs, atol=1e-07)"
   ]
  },
  {
   "cell_type": "code",
   "execution_count": 30,
   "id": "7741b581-0900-4d1e-bf66-80cf08e6a7a2",
   "metadata": {
    "scrolled": true
   },
   "outputs": [
    {
     "data": {
      "text/plain": [
       "True"
      ]
     },
     "execution_count": 30,
     "metadata": {},
     "output_type": "execute_result"
    }
   ],
   "source": [
    "torch.allclose(non_batch_LBs, batch_LBs, atol=1e-07)"
   ]
  },
  {
   "cell_type": "markdown",
   "id": "f0e476c3",
   "metadata": {},
   "source": [
    "### Comparison: batched FastLin vs batched ibp"
   ]
  },
  {
   "cell_type": "code",
   "execution_count": 31,
   "id": "5316ff40",
   "metadata": {},
   "outputs": [],
   "source": [
    "from cbfverify_barrier_fastlin import get_barrier_bounds_ibp"
   ]
  },
  {
   "cell_type": "code",
   "execution_count": 32,
   "id": "83ffab61",
   "metadata": {},
   "outputs": [],
   "source": [
    "start = time.time()\n",
    "UBs, LBs = get_barrier_bounds_ibp(x0, eps, Ws, bs, activation=\"relu\")\n",
    "ibp_elapsed_batch = time.time() - start"
   ]
  },
  {
   "cell_type": "code",
   "execution_count": 33,
   "id": "d4b8402e",
   "metadata": {
    "scrolled": true
   },
   "outputs": [
    {
     "name": "stdout",
     "output_type": "stream",
     "text": [
      "Time elapsed (batched ibp): 0.008853912353515625\n"
     ]
    }
   ],
   "source": [
    "print(\"Time elapsed (batched ibp): {}\".format(ibp_elapsed_batch))"
   ]
  },
  {
   "cell_type": "code",
   "execution_count": 34,
   "id": "4e113327",
   "metadata": {},
   "outputs": [
    {
     "name": "stdout",
     "output_type": "stream",
     "text": [
      "UB: 0.13961906731128693, LB: -0.2757570743560791\n"
     ]
    }
   ],
   "source": [
    "print(\"UB: {}, LB: {}\".format(UBs[-1][0][0], LBs[-1][0][0]))"
   ]
  },
  {
   "cell_type": "code",
   "execution_count": 35,
   "id": "4e55b3b9",
   "metadata": {},
   "outputs": [],
   "source": [
    "start = time.time()\n",
    "UBs, LBs = get_barrier_bounds_fastlin_batch(x0, eps, Ws, bs, method=\"fastlin\", activation=\"relu\")\n",
    "fastlin_elapsed_batch = time.time() - start"
   ]
  },
  {
   "cell_type": "code",
   "execution_count": 36,
   "id": "293324bf",
   "metadata": {},
   "outputs": [
    {
     "name": "stdout",
     "output_type": "stream",
     "text": [
      "Time elapsed (batched fastlin): 0.7686493396759033\n"
     ]
    }
   ],
   "source": [
    "print(\"Time elapsed (batched fastlin): {}\".format(fastlin_elapsed_batch))"
   ]
  },
  {
   "cell_type": "code",
   "execution_count": 37,
   "id": "58b7dc20",
   "metadata": {},
   "outputs": [
    {
     "name": "stdout",
     "output_type": "stream",
     "text": [
      "UB: -0.02567615546286106, LB: -0.10872718691825867\n"
     ]
    }
   ],
   "source": [
    "print(\"UB: {}, LB: {}\".format(UBs[-1][0][0], LBs[-1][0][0]))"
   ]
  },
  {
   "cell_type": "code",
   "execution_count": 38,
   "id": "ae525328-11f1-42f6-8489-fbda5049a16e",
   "metadata": {},
   "outputs": [],
   "source": [
    "start = time.time()\n",
    "UBs, LBs = get_barrier_bounds_fastlin_batch(x0, eps, Ws, bs, method=\"crown\", activation=\"relu\")\n",
    "crown_elapsed_batch = time.time() - start"
   ]
  },
  {
   "cell_type": "code",
   "execution_count": 39,
   "id": "abf28b90-6edf-406d-baf3-2dc62ec6aff7",
   "metadata": {},
   "outputs": [
    {
     "name": "stdout",
     "output_type": "stream",
     "text": [
      "Time elapsed (batched crown): 0.7635254859924316\n"
     ]
    }
   ],
   "source": [
    "print(\"Time elapsed (batched crown): {}\".format(crown_elapsed_batch))"
   ]
  },
  {
   "cell_type": "code",
   "execution_count": 40,
   "id": "8fb1365f-fc34-4e5d-9495-94542d4765ec",
   "metadata": {},
   "outputs": [
    {
     "name": "stdout",
     "output_type": "stream",
     "text": [
      "UB: -0.025010153651237488, LB: -0.10784491896629333\n"
     ]
    }
   ],
   "source": [
    "print(\"UB: {}, LB: {}\".format(UBs[-1][0][0], LBs[-1][0][0]))"
   ]
  },
  {
   "cell_type": "code",
   "execution_count": null,
   "id": "ada5e8b2",
   "metadata": {},
   "outputs": [],
   "source": []
  },
  {
   "cell_type": "markdown",
   "id": "15ac2e34",
   "metadata": {},
   "source": [
    "## Lie Derivative Bounds"
   ]
  },
  {
   "cell_type": "code",
   "execution_count": 41,
   "id": "65e51b87",
   "metadata": {},
   "outputs": [
    {
     "name": "stderr",
     "output_type": "stream",
     "text": [
      "/home/zhizhen/Documents/Neural-Network-Certification-Tools/cbfverify_lie.py:78: UserWarning: The use of `x.T` on tensors of dimension other than 2 to reverse their shape is deprecated and it will throw an error in a future release. Consider `x.mT` to transpose batches of matricesor `x.permute(*torch.arange(x.ndim - 1, -1, -1))` to reverse the dimensions of a tensor. (Triggered internally at  ../aten/src/ATen/native/TensorShape.cpp:2318.)\n",
      "  UB_3 = torch.matmul(UB_2.T,W_pos2.T)+torch.matmul(LB_2.T,W_neg2.T)\n"
     ]
    }
   ],
   "source": [
    "start = time.time()\n",
    "non_batch_UBs = []\n",
    "non_batch_LBs = []\n",
    "for i in range(x0.shape[1]):\n",
    "    x = x0[:,[i]]\n",
    "    UBs, LBs = get_lie_derivative_bounds(x, eps, Ws, bs, activation=\"relu\")\n",
    "    non_batch_UBs.append(UBs[0])\n",
    "    non_batch_LBs.append(LBs[0])\n",
    "lie_elapsed_non_batch = time.time() - start"
   ]
  },
  {
   "cell_type": "code",
   "execution_count": 42,
   "id": "0895aa30",
   "metadata": {
    "scrolled": true
   },
   "outputs": [
    {
     "name": "stdout",
     "output_type": "stream",
     "text": [
      "Time elapsed (non_batch_version): 2.998300075531006\n"
     ]
    }
   ],
   "source": [
    "print(\"Time elapsed (non_batch_version): {}\".format(lie_elapsed_non_batch))"
   ]
  },
  {
   "cell_type": "code",
   "execution_count": 43,
   "id": "64a32f17",
   "metadata": {
    "scrolled": true
   },
   "outputs": [],
   "source": [
    "non_batch_UBs = torch.stack(non_batch_UBs).squeeze()\n",
    "non_batch_LBs = torch.stack(non_batch_LBs).squeeze()"
   ]
  },
  {
   "cell_type": "code",
   "execution_count": 44,
   "id": "8e18f139",
   "metadata": {},
   "outputs": [],
   "source": [
    "start = time.time()\n",
    "UBs, LBs = get_lie_derivative_bounds(x0, eps, Ws, bs, activation=\"relu\")\n",
    "lie_elapsed_batched = time.time() - start"
   ]
  },
  {
   "cell_type": "code",
   "execution_count": 45,
   "id": "9649393d",
   "metadata": {
    "scrolled": true
   },
   "outputs": [
    {
     "name": "stdout",
     "output_type": "stream",
     "text": [
      "Time elapsed (batched version): 0.04903268814086914\n"
     ]
    }
   ],
   "source": [
    "print(\"Time elapsed (batched version): {}\".format(lie_elapsed_batched))"
   ]
  },
  {
   "cell_type": "code",
   "execution_count": 46,
   "id": "6c8aae21",
   "metadata": {},
   "outputs": [],
   "source": [
    "batch_UBs = UBs.squeeze()\n",
    "batch_LBs = LBs.squeeze()"
   ]
  },
  {
   "cell_type": "markdown",
   "id": "6f9c6ce8",
   "metadata": {},
   "source": [
    "### Check Lie bounds correctness"
   ]
  },
  {
   "cell_type": "code",
   "execution_count": 47,
   "id": "b5f060b3",
   "metadata": {},
   "outputs": [
    {
     "data": {
      "text/plain": [
       "True"
      ]
     },
     "execution_count": 47,
     "metadata": {},
     "output_type": "execute_result"
    }
   ],
   "source": [
    "torch.allclose(non_batch_UBs, batch_UBs, atol=1e-07)"
   ]
  },
  {
   "cell_type": "code",
   "execution_count": 48,
   "id": "15360dc8",
   "metadata": {},
   "outputs": [
    {
     "data": {
      "text/plain": [
       "True"
      ]
     },
     "execution_count": 48,
     "metadata": {},
     "output_type": "execute_result"
    }
   ],
   "source": [
    "torch.allclose(non_batch_LBs, batch_LBs, atol=1e-07)"
   ]
  },
  {
   "cell_type": "markdown",
   "id": "f7c8a705",
   "metadata": {},
   "source": [
    "#### Check Lie propagation with ReLU"
   ]
  },
  {
   "cell_type": "code",
   "execution_count": 49,
   "id": "a052815d",
   "metadata": {},
   "outputs": [],
   "source": [
    "x0_in = x0.T\n",
    "x0_in = x0_in.requires_grad_(True)"
   ]
  },
  {
   "cell_type": "code",
   "execution_count": 50,
   "id": "7cb9a2a3",
   "metadata": {},
   "outputs": [],
   "source": [
    "# Gradients given by pytorch's autograd\n",
    "all_grads = []\n",
    "for x0_single in x0_in:\n",
    "    x0_single = x0_single.unsqueeze(0)\n",
    "    grads = torch.autograd.grad(model(x0_single),x0_single)\n",
    "    all_grads.append(grads[0])"
   ]
  },
  {
   "cell_type": "code",
   "execution_count": 51,
   "id": "d5fdf00f",
   "metadata": {},
   "outputs": [],
   "source": [
    "autograd_res = torch.vstack(all_grads)"
   ]
  },
  {
   "cell_type": "code",
   "execution_count": 52,
   "id": "7b08cec0",
   "metadata": {},
   "outputs": [],
   "source": [
    "from cbfverify_lie import forward_prop_lie"
   ]
  },
  {
   "cell_type": "code",
   "execution_count": 53,
   "id": "68483edb",
   "metadata": {},
   "outputs": [],
   "source": [
    "# Our own propagation\n",
    "all_grads = forward_prop_lie(Ws,bs,x0,activation='relu')"
   ]
  },
  {
   "cell_type": "code",
   "execution_count": 54,
   "id": "0a761579",
   "metadata": {},
   "outputs": [],
   "source": [
    "imp_res = all_grads.squeeze()"
   ]
  },
  {
   "cell_type": "code",
   "execution_count": null,
   "id": "2c7d8cb1",
   "metadata": {},
   "outputs": [],
   "source": []
  },
  {
   "cell_type": "code",
   "execution_count": 55,
   "id": "d83345f3",
   "metadata": {
    "scrolled": true
   },
   "outputs": [
    {
     "data": {
      "text/plain": [
       "True"
      ]
     },
     "execution_count": 55,
     "metadata": {},
     "output_type": "execute_result"
    }
   ],
   "source": [
    "torch.allclose(autograd_res, imp_res, atol=1e-07)"
   ]
  },
  {
   "cell_type": "markdown",
   "id": "30d1f749",
   "metadata": {},
   "source": [
    "#### Validate Lie derivative bounds"
   ]
  },
  {
   "cell_type": "code",
   "execution_count": 56,
   "id": "daeabb3e",
   "metadata": {},
   "outputs": [],
   "source": [
    "from cbfverify_lie import validate_bounds, show"
   ]
  },
  {
   "cell_type": "code",
   "execution_count": 57,
   "id": "1ce627a3",
   "metadata": {},
   "outputs": [
    {
     "name": "stdout",
     "output_type": "stream",
     "text": [
      "pass validation of UB!\n",
      "pass validation of LB!\n"
     ]
    }
   ],
   "source": [
    "violation_UBs, violation_LBs = validate_bounds(x0, eps, Ws, bs)"
   ]
  },
  {
   "cell_type": "code",
   "execution_count": 58,
   "id": "3678cfe6",
   "metadata": {},
   "outputs": [
    {
     "data": {
      "text/plain": [
       "torch.Size([3, 10000])"
      ]
     },
     "execution_count": 58,
     "metadata": {},
     "output_type": "execute_result"
    }
   ],
   "source": [
    "x0.shape"
   ]
  },
  {
   "cell_type": "code",
   "execution_count": null,
   "id": "3a2ab212",
   "metadata": {},
   "outputs": [],
   "source": []
  },
  {
   "cell_type": "code",
   "execution_count": 59,
   "id": "5992dec5",
   "metadata": {},
   "outputs": [],
   "source": [
    "import matplotlib.pyplot as plt"
   ]
  },
  {
   "cell_type": "code",
   "execution_count": 60,
   "id": "3d748b44",
   "metadata": {},
   "outputs": [],
   "source": [
    "idx = 0"
   ]
  },
  {
   "cell_type": "code",
   "execution_count": 61,
   "id": "dee3aeec",
   "metadata": {},
   "outputs": [
    {
     "data": {
      "text/plain": [
       "<matplotlib.legend.Legend at 0x7fd12628c6a0>"
      ]
     },
     "execution_count": 61,
     "metadata": {},
     "output_type": "execute_result"
    },
    {
     "data": {
      "image/png": "[encoded data removed]",
      "text/plain": [
       "<Figure size 576x576 with 1 Axes>"
      ]
     },
     "metadata": {
      "needs_background": "light"
     },
     "output_type": "display_data"
    }
   ],
   "source": [
    "fig = plt.figure(figsize=(8,8))\n",
    "ax = plt.axes(projection='3d')\n",
    "ax.scatter(*imp_res[idx], c='b', label='Derivative')\n",
    "ax.scatter(*batch_LBs[idx], c='r', label='LB')\n",
    "ax.scatter(*batch_UBs[idx], c='g', label='UB')\n",
    "plt.legend(fontsize=18)"
   ]
  },
  {
   "cell_type": "code",
   "execution_count": null,
   "id": "3dd463bf",
   "metadata": {},
   "outputs": [],
   "source": []
  },
  {
   "cell_type": "code",
   "execution_count": null,
   "id": "6d5bd6c6-34ec-4ff8-912a-81b0186f3d6d",
   "metadata": {},
   "outputs": [],
   "source": []
  }
 ],
 "metadata": {
  "kernelspec": {
   "display_name": "Python [conda env:neural_cbf]",
   "language": "python",
   "name": "conda-env-neural_cbf-py"
  },
  "language_info": {
   "codemirror_mode": {
    "name": "ipython",
    "version": 3
   },
   "file_extension": ".py",
   "mimetype": "text/x-python",
   "name": "python",
   "nbconvert_exporter": "python",
   "pygments_lexer": "ipython3",
   "version": "3.8.13"
  }
 },
 "nbformat": 4,
 "nbformat_minor": 5
}
