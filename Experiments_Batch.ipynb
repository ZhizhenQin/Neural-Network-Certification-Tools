{
 "cells": [
  {
   "cell_type": "code",
   "execution_count": 1,
   "id": "662e7257",
   "metadata": {},
   "outputs": [],
   "source": [
    "import time\n",
    "import torch"
   ]
  },
  {
   "cell_type": "code",
   "execution_count": 2,
   "id": "90b8b624",
   "metadata": {},
   "outputs": [],
   "source": [
    "import torch.nn as nn"
   ]
  },
  {
   "cell_type": "code",
   "execution_count": null,
   "id": "6577c7d6",
   "metadata": {},
   "outputs": [],
   "source": []
  },
  {
   "cell_type": "code",
   "execution_count": 3,
   "id": "9aa57181",
   "metadata": {},
   "outputs": [],
   "source": [
    "# utilities\n",
    "from cbfverify_barrier_fastlin import get_weights"
   ]
  },
  {
   "cell_type": "code",
   "execution_count": 4,
   "id": "a06bef08",
   "metadata": {},
   "outputs": [],
   "source": [
    "# Output bounds, Batch\n",
    "from cbfverify_barrier_fastlin_batch import get_barrier_bounds_fastlin_batch\n",
    "\n",
    "# Output bounds, Original (Non-Batch)\n",
    "from cbfverify_barrier_fastlin import get_barrier_bounds_fastlin"
   ]
  },
  {
   "cell_type": "code",
   "execution_count": 5,
   "id": "55ba975e",
   "metadata": {},
   "outputs": [],
   "source": [
    "# Lie bounds, Batch (originally supported)\n",
    "from cbfverify_lie import get_lie_derivative_bounds"
   ]
  },
  {
   "cell_type": "code",
   "execution_count": null,
   "id": "747aceed",
   "metadata": {},
   "outputs": [],
   "source": []
  },
  {
   "cell_type": "code",
   "execution_count": 6,
   "id": "0076d596",
   "metadata": {},
   "outputs": [],
   "source": [
    "# 1-layer network with ReLU activation\n",
    "dim_in, dim_out, num_hidden, num_batch = 3, 1, 256, 1\n",
    "model = nn.Sequential(\n",
    "    nn.Linear(dim_in,num_hidden),\n",
    "    nn.ReLU(),\n",
    "    nn.Linear(num_hidden,dim_out)\n",
    ")"
   ]
  },
  {
   "cell_type": "code",
   "execution_count": 7,
   "id": "6b4bf5f7",
   "metadata": {},
   "outputs": [
    {
     "data": {
      "text/plain": [
       "Sequential(\n",
       "  (0): Linear(in_features=3, out_features=256, bias=True)\n",
       "  (1): ReLU()\n",
       "  (2): Linear(in_features=256, out_features=1, bias=True)\n",
       ")"
      ]
     },
     "execution_count": 7,
     "metadata": {},
     "output_type": "execute_result"
    }
   ],
   "source": [
    "def init_weights(m):\n",
    "    if isinstance(m, nn.Linear):\n",
    "        torch.nn.init.xavier_uniform_(m.weight)\n",
    "        m.bias.data.fill_(0.01)\n",
    "\n",
    "model.apply(init_weights)"
   ]
  },
  {
   "cell_type": "code",
   "execution_count": 8,
   "id": "02ac2d50",
   "metadata": {},
   "outputs": [
    {
     "name": "stdout",
     "output_type": "stream",
     "text": [
      "W0:torch.Size([256, 3])\n",
      "b0:torch.Size([256])\n",
      "W1:torch.Size([1, 256])\n",
      "b1:torch.Size([1])\n"
     ]
    }
   ],
   "source": [
    "Ws, bs = get_weights(model)"
   ]
  },
  {
   "cell_type": "code",
   "execution_count": 9,
   "id": "4d67991d",
   "metadata": {},
   "outputs": [],
   "source": [
    "# 10k samples\n",
    "num_sample = 10000\n",
    "x0 = torch.rand(dim_in,num_sample) # shape: (dim_in, num_batch)"
   ]
  },
  {
   "cell_type": "code",
   "execution_count": 10,
   "id": "9afedd0b",
   "metadata": {},
   "outputs": [],
   "source": [
    "# perturbation magnitude\n",
    "eps = 0.1"
   ]
  },
  {
   "cell_type": "markdown",
   "id": "9a3e0ea3",
   "metadata": {},
   "source": [
    "## Network Output Bounds, FastLin"
   ]
  },
  {
   "cell_type": "code",
   "execution_count": 11,
   "id": "40928e6a",
   "metadata": {},
   "outputs": [],
   "source": [
    "start = time.time()\n",
    "non_batch_UBs = []\n",
    "non_batch_LBs = []\n",
    "for i in range(x0.shape[1]):\n",
    "    x = x0[:,[i]]\n",
    "    UBs, LBs = get_barrier_bounds_fastlin(x, eps, Ws, bs, method=\"fastlin\", activation=\"relu\")\n",
    "    non_batch_UBs.append(UBs[-1][0, 0])\n",
    "    non_batch_LBs.append(LBs[-1][0, 0])\n",
    "fastlin_elapsed_non_batch = time.time() - start"
   ]
  },
  {
   "cell_type": "code",
   "execution_count": 12,
   "id": "e4966bc7",
   "metadata": {},
   "outputs": [
    {
     "name": "stdout",
     "output_type": "stream",
     "text": [
      "Time elapsed (non_batch version): 3.936497926712036\n"
     ]
    }
   ],
   "source": [
    "print(\"Time elapsed (non_batch version): {}\".format(fastlin_elapsed_non_batch))"
   ]
  },
  {
   "cell_type": "code",
   "execution_count": 13,
   "id": "1d2b6037",
   "metadata": {},
   "outputs": [],
   "source": [
    "non_batch_UBs = torch.FloatTensor(non_batch_UBs)\n",
    "non_batch_LBs = torch.FloatTensor(non_batch_LBs)"
   ]
  },
  {
   "cell_type": "code",
   "execution_count": 14,
   "id": "a347a0e4",
   "metadata": {},
   "outputs": [],
   "source": [
    "start = time.time()\n",
    "UBs, LBs = get_barrier_bounds_fastlin_batch(x0, eps, Ws, bs, method=\"fastlin\", activation=\"relu\")\n",
    "fastlin_elapsed_batch = time.time() - start"
   ]
  },
  {
   "cell_type": "code",
   "execution_count": 15,
   "id": "55a8e974",
   "metadata": {},
   "outputs": [
    {
     "name": "stdout",
     "output_type": "stream",
     "text": [
      "Time elapsed (batched version): 0.6828396320343018\n"
     ]
    }
   ],
   "source": [
    "print(\"Time elapsed (batched version): {}\".format(fastlin_elapsed_batch))"
   ]
  },
  {
   "cell_type": "code",
   "execution_count": 16,
   "id": "73bc58af",
   "metadata": {},
   "outputs": [],
   "source": [
    "batch_UBs = UBs[-1].squeeze()\n",
    "batch_LBs = LBs[-1].squeeze()"
   ]
  },
  {
   "cell_type": "markdown",
   "id": "cf541724",
   "metadata": {},
   "source": [
    "### Check output bounds correctness"
   ]
  },
  {
   "cell_type": "code",
   "execution_count": 17,
   "id": "b1fd2c2a",
   "metadata": {
    "scrolled": true
   },
   "outputs": [
    {
     "data": {
      "text/plain": [
       "True"
      ]
     },
     "execution_count": 17,
     "metadata": {},
     "output_type": "execute_result"
    }
   ],
   "source": [
    "torch.allclose(non_batch_UBs, batch_UBs, atol=1e-07)"
   ]
  },
  {
   "cell_type": "code",
   "execution_count": 18,
   "id": "2b2462d6",
   "metadata": {
    "scrolled": true
   },
   "outputs": [
    {
     "data": {
      "text/plain": [
       "True"
      ]
     },
     "execution_count": 18,
     "metadata": {},
     "output_type": "execute_result"
    }
   ],
   "source": [
    "torch.allclose(non_batch_LBs, batch_LBs, atol=1e-07)"
   ]
  },
  {
   "cell_type": "markdown",
   "id": "f0e476c3",
   "metadata": {},
   "source": [
    "### Comparison: batched FastLin vs batched ibp"
   ]
  },
  {
   "cell_type": "code",
   "execution_count": 19,
   "id": "5316ff40",
   "metadata": {},
   "outputs": [],
   "source": [
    "from cbfverify_barrier_fastlin import get_barrier_bounds_ibp"
   ]
  },
  {
   "cell_type": "code",
   "execution_count": 20,
   "id": "83ffab61",
   "metadata": {},
   "outputs": [],
   "source": [
    "start = time.time()\n",
    "UBs, LBs = get_barrier_bounds_ibp(x0, eps, Ws, bs, activation=\"relu\")\n",
    "ibp_elapsed_batch = time.time() - start"
   ]
  },
  {
   "cell_type": "code",
   "execution_count": 21,
   "id": "d4b8402e",
   "metadata": {
    "scrolled": true
   },
   "outputs": [
    {
     "name": "stdout",
     "output_type": "stream",
     "text": [
      "Time elapsed (batched ibp): 0.010169506072998047\n"
     ]
    }
   ],
   "source": [
    "print(\"Time elapsed (batched ibp): {}\".format(ibp_elapsed_batch))"
   ]
  },
  {
   "cell_type": "code",
   "execution_count": 22,
   "id": "4e113327",
   "metadata": {},
   "outputs": [
    {
     "name": "stdout",
     "output_type": "stream",
     "text": [
      "UB: 0.41615548729896545, LB: -0.17780260741710663\n"
     ]
    }
   ],
   "source": [
    "print(\"UB: {}, LB: {}\".format(UBs[-1][0][0], LBs[-1][0][0]))"
   ]
  },
  {
   "cell_type": "code",
   "execution_count": 23,
   "id": "4e55b3b9",
   "metadata": {},
   "outputs": [],
   "source": [
    "start = time.time()\n",
    "UBs, LBs = get_barrier_bounds_fastlin_batch(x0, eps, Ws, bs, method=\"fastlin\", activation=\"relu\")\n",
    "fastlin_elapsed_batch = time.time() - start"
   ]
  },
  {
   "cell_type": "code",
   "execution_count": 24,
   "id": "293324bf",
   "metadata": {},
   "outputs": [
    {
     "name": "stdout",
     "output_type": "stream",
     "text": [
      "Time elapsed (batched fastlin): 0.6944561004638672\n"
     ]
    }
   ],
   "source": [
    "print(\"Time elapsed (batched fastlin): {}\".format(fastlin_elapsed_batch))"
   ]
  },
  {
   "cell_type": "code",
   "execution_count": 25,
   "id": "58b7dc20",
   "metadata": {},
   "outputs": [
    {
     "name": "stdout",
     "output_type": "stream",
     "text": [
      "UB: 0.17525365948677063, LB: 0.049879517406225204\n"
     ]
    }
   ],
   "source": [
    "print(\"UB: {}, LB: {}\".format(UBs[-1][0][0], LBs[-1][0][0]))"
   ]
  },
  {
   "cell_type": "code",
   "execution_count": null,
   "id": "ada5e8b2",
   "metadata": {},
   "outputs": [],
   "source": []
  },
  {
   "cell_type": "markdown",
   "id": "15ac2e34",
   "metadata": {},
   "source": [
    "## Lie Derivative Bounds"
   ]
  },
  {
   "cell_type": "code",
   "execution_count": 26,
   "id": "65e51b87",
   "metadata": {},
   "outputs": [],
   "source": [
    "start = time.time()\n",
    "non_batch_UBs = []\n",
    "non_batch_LBs = []\n",
    "for i in range(x0.shape[1]):\n",
    "    x = x0[:,[i]]\n",
    "    UBs, LBs = get_lie_derivative_bounds(x, eps, Ws, bs, activation=\"relu\")\n",
    "    non_batch_UBs.append(UBs[0])\n",
    "    non_batch_LBs.append(LBs[0])\n",
    "lie_elapsed_non_batch = time.time() - start"
   ]
  },
  {
   "cell_type": "code",
   "execution_count": 27,
   "id": "0895aa30",
   "metadata": {
    "scrolled": true
   },
   "outputs": [
    {
     "name": "stdout",
     "output_type": "stream",
     "text": [
      "Time elapsed (non_batch_version): 2.3382973670959473\n"
     ]
    }
   ],
   "source": [
    "print(\"Time elapsed (non_batch_version): {}\".format(lie_elapsed_non_batch))"
   ]
  },
  {
   "cell_type": "code",
   "execution_count": 28,
   "id": "64a32f17",
   "metadata": {
    "scrolled": true
   },
   "outputs": [],
   "source": [
    "non_batch_UBs = torch.stack(non_batch_UBs).squeeze()\n",
    "non_batch_LBs = torch.stack(non_batch_LBs).squeeze()"
   ]
  },
  {
   "cell_type": "code",
   "execution_count": 29,
   "id": "8e18f139",
   "metadata": {},
   "outputs": [],
   "source": [
    "start = time.time()\n",
    "UBs, LBs = get_lie_derivative_bounds(x0, eps, Ws, bs, activation=\"relu\")\n",
    "lie_elapsed_batched = time.time() - start"
   ]
  },
  {
   "cell_type": "code",
   "execution_count": 30,
   "id": "9649393d",
   "metadata": {
    "scrolled": true
   },
   "outputs": [
    {
     "name": "stdout",
     "output_type": "stream",
     "text": [
      "Time elapsed (batched version): 0.049223899841308594\n"
     ]
    }
   ],
   "source": [
    "print(\"Time elapsed (batched version): {}\".format(lie_elapsed_batched))"
   ]
  },
  {
   "cell_type": "code",
   "execution_count": 31,
   "id": "6c8aae21",
   "metadata": {},
   "outputs": [],
   "source": [
    "batch_UBs = UBs.squeeze()\n",
    "batch_LBs = LBs.squeeze()"
   ]
  },
  {
   "cell_type": "markdown",
   "id": "6f9c6ce8",
   "metadata": {},
   "source": [
    "### Check Lie bounds correctness"
   ]
  },
  {
   "cell_type": "code",
   "execution_count": 32,
   "id": "b5f060b3",
   "metadata": {},
   "outputs": [
    {
     "data": {
      "text/plain": [
       "True"
      ]
     },
     "execution_count": 32,
     "metadata": {},
     "output_type": "execute_result"
    }
   ],
   "source": [
    "torch.allclose(non_batch_UBs, batch_UBs, atol=1e-07)"
   ]
  },
  {
   "cell_type": "code",
   "execution_count": 33,
   "id": "15360dc8",
   "metadata": {},
   "outputs": [
    {
     "data": {
      "text/plain": [
       "True"
      ]
     },
     "execution_count": 33,
     "metadata": {},
     "output_type": "execute_result"
    }
   ],
   "source": [
    "torch.allclose(non_batch_LBs, batch_LBs, atol=1e-07)"
   ]
  },
  {
   "cell_type": "markdown",
   "id": "f7c8a705",
   "metadata": {},
   "source": [
    "#### Check Lie propagation with ReLU"
   ]
  },
  {
   "cell_type": "code",
   "execution_count": 34,
   "id": "a052815d",
   "metadata": {},
   "outputs": [],
   "source": [
    "x0_in = x0.T\n",
    "x0_in = x0_in.requires_grad_(True)"
   ]
  },
  {
   "cell_type": "code",
   "execution_count": 35,
   "id": "7cb9a2a3",
   "metadata": {},
   "outputs": [],
   "source": [
    "# Gradients given by pytorch's autograd\n",
    "all_grads = []\n",
    "for x0_single in x0_in:\n",
    "    x0_single = x0_single.unsqueeze(0)\n",
    "    grads = torch.autograd.grad(model(x0_single),x0_single)\n",
    "    all_grads.append(grads[0])"
   ]
  },
  {
   "cell_type": "code",
   "execution_count": 36,
   "id": "d5fdf00f",
   "metadata": {},
   "outputs": [],
   "source": [
    "autograd_res = torch.vstack(all_grads)"
   ]
  },
  {
   "cell_type": "code",
   "execution_count": 37,
   "id": "7b08cec0",
   "metadata": {},
   "outputs": [],
   "source": [
    "from cbfverify_lie import forward_prop_lie"
   ]
  },
  {
   "cell_type": "code",
   "execution_count": 38,
   "id": "68483edb",
   "metadata": {},
   "outputs": [],
   "source": [
    "# Our own propagation\n",
    "all_grads = forward_prop_lie(Ws,bs,x0,activation='relu')"
   ]
  },
  {
   "cell_type": "code",
   "execution_count": 39,
   "id": "0a761579",
   "metadata": {},
   "outputs": [],
   "source": [
    "imp_res = all_grads.squeeze()"
   ]
  },
  {
   "cell_type": "code",
   "execution_count": null,
   "id": "2c7d8cb1",
   "metadata": {},
   "outputs": [],
   "source": []
  },
  {
   "cell_type": "code",
   "execution_count": 40,
   "id": "d83345f3",
   "metadata": {
    "scrolled": true
   },
   "outputs": [
    {
     "data": {
      "text/plain": [
       "True"
      ]
     },
     "execution_count": 40,
     "metadata": {},
     "output_type": "execute_result"
    }
   ],
   "source": [
    "torch.allclose(autograd_res, imp_res, atol=1e-07)"
   ]
  },
  {
   "cell_type": "markdown",
   "id": "30d1f749",
   "metadata": {},
   "source": [
    "#### Validate Lie derivative bounds"
   ]
  },
  {
   "cell_type": "code",
   "execution_count": 41,
   "id": "daeabb3e",
   "metadata": {},
   "outputs": [],
   "source": [
    "from cbfverify_lie import validate_bounds, show"
   ]
  },
  {
   "cell_type": "code",
   "execution_count": 42,
   "id": "1ce627a3",
   "metadata": {},
   "outputs": [
    {
     "name": "stdout",
     "output_type": "stream",
     "text": [
      "pass validation of UB!\n",
      "pass validation of LB!\n"
     ]
    }
   ],
   "source": [
    "violation_UBs, violation_LBs = validate_bounds(x0, eps, Ws, bs)"
   ]
  },
  {
   "cell_type": "code",
   "execution_count": 43,
   "id": "3678cfe6",
   "metadata": {},
   "outputs": [
    {
     "data": {
      "text/plain": [
       "torch.Size([3, 10000])"
      ]
     },
     "execution_count": 43,
     "metadata": {},
     "output_type": "execute_result"
    }
   ],
   "source": [
    "x0.shape"
   ]
  },
  {
   "cell_type": "code",
   "execution_count": null,
   "id": "3a2ab212",
   "metadata": {},
   "outputs": [],
   "source": []
  },
  {
   "cell_type": "code",
   "execution_count": 44,
   "id": "5992dec5",
   "metadata": {},
   "outputs": [],
   "source": [
    "import matplotlib.pyplot as plt"
   ]
  },
  {
   "cell_type": "code",
   "execution_count": 45,
   "id": "3d748b44",
   "metadata": {},
   "outputs": [],
   "source": [
    "idx = 0"
   ]
  },
  {
   "cell_type": "code",
   "execution_count": 46,
   "id": "dee3aeec",
   "metadata": {},
   "outputs": [
    {
     "data": {
      "text/plain": [
       "<matplotlib.legend.Legend at 0x7f93b7665950>"
      ]
     },
     "execution_count": 46,
     "metadata": {},
     "output_type": "execute_result"
    },
    {
     "data": {
      "image/png": "[encoded data removed]",
      "text/plain": [
       "<Figure size 576x576 with 1 Axes>"
      ]
     },
     "metadata": {
      "needs_background": "light"
     },
     "output_type": "display_data"
    }
   ],
   "source": [
    "fig = plt.figure(figsize=(8,8))\n",
    "ax = plt.axes(projection='3d')\n",
    "ax.scatter(*imp_res[idx], c='b', label='Derivative')\n",
    "ax.scatter(*batch_LBs[idx], c='r', label='LB')\n",
    "ax.scatter(*batch_UBs[idx], c='g', label='UB')\n",
    "plt.legend(fontsize=18)"
   ]
  },
  {
   "cell_type": "code",
   "execution_count": null,
   "id": "3dd463bf",
   "metadata": {},
   "outputs": [],
   "source": []
  }
 ],
 "metadata": {
  "kernelspec": {
   "display_name": "Python [conda env:neural_cbf]",
   "language": "python",
   "name": "conda-env-neural_cbf-py"
  },
  "language_info": {
   "codemirror_mode": {
    "name": "ipython",
    "version": 3
   },
   "file_extension": ".py",
   "mimetype": "text/x-python",
   "name": "python",
   "nbconvert_exporter": "python",
   "pygments_lexer": "ipython3",
   "version": "3.7.11"
  }
 },
 "nbformat": 4,
 "nbformat_minor": 5
}
