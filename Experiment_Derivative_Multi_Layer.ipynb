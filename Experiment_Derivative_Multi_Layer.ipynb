{
 "cells": [
  {
   "cell_type": "code",
   "execution_count": 1,
   "id": "c68815fa-5000-44f7-b14e-b7b30853d4c8",
   "metadata": {},
   "outputs": [],
   "source": [
    "import time\n",
    "import torch"
   ]
  },
  {
   "cell_type": "code",
   "execution_count": 2,
   "id": "f9f83964-6159-4ce3-8246-ee039a0d3268",
   "metadata": {},
   "outputs": [],
   "source": [
    "import torch.nn as nn"
   ]
  },
  {
   "cell_type": "code",
   "execution_count": 3,
   "id": "2bcd3048-e5ee-4777-811c-e98c909523ef",
   "metadata": {},
   "outputs": [],
   "source": [
    "import matplotlib.pyplot as plt"
   ]
  },
  {
   "cell_type": "code",
   "execution_count": 4,
   "id": "dc03c8e6-0b8a-4439-94c4-a3d0edb76065",
   "metadata": {},
   "outputs": [],
   "source": [
    "# utilities\n",
    "from cbfverify_barrier_fastlin import get_weights"
   ]
  },
  {
   "cell_type": "code",
   "execution_count": 5,
   "id": "10e6d651-8003-41fd-a21e-abcd5263f3a1",
   "metadata": {},
   "outputs": [],
   "source": [
    "# 1-layer network with ReLU activation\n",
    "dim_in, dim_out, num_hidden, num_batch = 3, 1, 256, 1\n",
    "model = nn.Sequential(\n",
    "    nn.Linear(dim_in,num_hidden),\n",
    "    nn.ReLU(),\n",
    "    nn.Linear(num_hidden,num_hidden),\n",
    "    nn.ReLU(),\n",
    "    nn.Linear(num_hidden,dim_out)\n",
    ")"
   ]
  },
  {
   "cell_type": "raw",
   "id": "83475907-77d8-4102-bf13-b7f93c22397a",
   "metadata": {},
   "source": [
    "# 1-layer network with ReLU activation\n",
    "dim_in, dim_out, num_hidden, num_batch = 3, 1, 256, 1\n",
    "model = nn.Sequential(\n",
    "    nn.Linear(dim_in,num_hidden),\n",
    "#     nn.ReLU(),\n",
    "#     nn.Linear(num_hidden,num_hidden),\n",
    "    nn.ReLU(),\n",
    "    nn.Linear(num_hidden,dim_out)\n",
    ")"
   ]
  },
  {
   "cell_type": "code",
   "execution_count": 6,
   "id": "a54bd3f3-7cd5-418e-aa08-6ff8abd72599",
   "metadata": {},
   "outputs": [
    {
     "data": {
      "text/plain": [
       "Sequential(\n",
       "  (0): Linear(in_features=3, out_features=256, bias=True)\n",
       "  (1): ReLU()\n",
       "  (2): Linear(in_features=256, out_features=256, bias=True)\n",
       "  (3): ReLU()\n",
       "  (4): Linear(in_features=256, out_features=1, bias=True)\n",
       ")"
      ]
     },
     "execution_count": 6,
     "metadata": {},
     "output_type": "execute_result"
    }
   ],
   "source": [
    "def init_weights(m):\n",
    "    if isinstance(m, nn.Linear):\n",
    "        torch.nn.init.xavier_uniform_(m.weight)\n",
    "        m.bias.data.fill_(0.01)\n",
    "\n",
    "model.apply(init_weights)"
   ]
  },
  {
   "cell_type": "code",
   "execution_count": 7,
   "id": "7cc557a3-30cd-43ac-805f-291373e7dde2",
   "metadata": {},
   "outputs": [
    {
     "name": "stdout",
     "output_type": "stream",
     "text": [
      "W0:torch.Size([256, 3])\n",
      "b0:torch.Size([256])\n",
      "W1:torch.Size([256, 256])\n",
      "b1:torch.Size([256])\n",
      "W2:torch.Size([1, 256])\n",
      "b2:torch.Size([1])\n"
     ]
    }
   ],
   "source": [
    "Ws, bs = get_weights(model)"
   ]
  },
  {
   "cell_type": "code",
   "execution_count": null,
   "id": "db0bf808-eb4e-4231-9bed-b20ff2efc738",
   "metadata": {},
   "outputs": [],
   "source": []
  },
  {
   "cell_type": "code",
   "execution_count": 8,
   "id": "8d36e5b8-c625-48da-88e9-59ece6b2de04",
   "metadata": {},
   "outputs": [],
   "source": [
    "# 1 samples  *** Only batch size of 1 is supported!\n",
    "batch_size = 1\n",
    "# perturbation magnitude\n",
    "eps = 0.1"
   ]
  },
  {
   "cell_type": "code",
   "execution_count": null,
   "id": "693d574a-2c6f-4950-a0a6-eaf36586701d",
   "metadata": {},
   "outputs": [],
   "source": []
  },
  {
   "cell_type": "code",
   "execution_count": 9,
   "id": "92d8a0a6-3240-4b06-bb70-0e7a43c6687c",
   "metadata": {},
   "outputs": [],
   "source": [
    "from cbfverify_lie_mult_layers import get_derivative_bounds_mult_layers"
   ]
  },
  {
   "cell_type": "code",
   "execution_count": 10,
   "id": "824dbd24-e8e4-4538-b677-b714916ce24a",
   "metadata": {},
   "outputs": [
    {
     "name": "stdout",
     "output_type": "stream",
     "text": [
      "Time used for 100 samples: 3.2514326572418213\n"
     ]
    }
   ],
   "source": [
    "num_samples = 100\n",
    "\n",
    "start = time.time()\n",
    "for _ in range(num_samples):\n",
    "    x0 = torch.rand(dim_in,batch_size) # shape: (dim_in, num_batch)\n",
    "    UBs, LBs = get_derivative_bounds_mult_layers(x0, eps, Ws, bs)\n",
    "\n",
    "time_elapsed = time.time() - start\n",
    "print(\"Time used for {} samples: {}\".format(num_samples, time_elapsed))"
   ]
  },
  {
   "cell_type": "code",
   "execution_count": null,
   "id": "b332159a-5a04-4784-963b-4a49992a4d0e",
   "metadata": {},
   "outputs": [],
   "source": []
  },
  {
   "cell_type": "code",
   "execution_count": 11,
   "id": "95c4c9e4-7e7e-498b-b602-14efcd894abf",
   "metadata": {},
   "outputs": [],
   "source": [
    "from cbfverify_lie_mult_layers import validate_derivative_bounds"
   ]
  },
  {
   "cell_type": "code",
   "execution_count": 12,
   "id": "035dee5a-c975-42da-9255-9eb73135fd51",
   "metadata": {},
   "outputs": [
    {
     "name": "stdout",
     "output_type": "stream",
     "text": [
      "pass validations!\n"
     ]
    }
   ],
   "source": [
    "num_samples = 100\n",
    "\n",
    "for _ in range(num_samples):\n",
    "    x0 = torch.rand(dim_in,batch_size)\n",
    "    validate_derivative_bounds(x0, eps, Ws, bs, model, get_derivative_bounds_mult_layers)\n",
    "print(\"pass validations!\")"
   ]
  },
  {
   "cell_type": "code",
   "execution_count": null,
   "id": "0fba0182-010c-40a7-b5f5-e3e8363b03b8",
   "metadata": {},
   "outputs": [],
   "source": []
  }
 ],
 "metadata": {
  "kernelspec": {
   "display_name": "Python [conda env:neural_cbf]",
   "language": "python",
   "name": "conda-env-neural_cbf-py"
  },
  "language_info": {
   "codemirror_mode": {
    "name": "ipython",
    "version": 3
   },
   "file_extension": ".py",
   "mimetype": "text/x-python",
   "name": "python",
   "nbconvert_exporter": "python",
   "pygments_lexer": "ipython3",
   "version": "3.7.11"
  }
 },
 "nbformat": 4,
 "nbformat_minor": 5
}
