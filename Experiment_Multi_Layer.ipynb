{
 "cells": [
  {
   "cell_type": "code",
   "execution_count": 1,
   "id": "efdd596e-2b37-46a9-9ecc-8b1afec12c45",
   "metadata": {},
   "outputs": [],
   "source": [
    "import time\n",
    "import torch"
   ]
  },
  {
   "cell_type": "code",
   "execution_count": 2,
   "id": "c24d853e-4c8e-4c43-baba-d6f586f99c0b",
   "metadata": {},
   "outputs": [],
   "source": [
    "import torch.nn as nn"
   ]
  },
  {
   "cell_type": "code",
   "execution_count": 3,
   "id": "f223ed9a-8cb4-49e3-95d7-b23e6f792077",
   "metadata": {},
   "outputs": [],
   "source": [
    "import matplotlib.pyplot as plt"
   ]
  },
  {
   "cell_type": "code",
   "execution_count": null,
   "id": "6ad3e596-9621-4d16-b98a-f8d28156c694",
   "metadata": {},
   "outputs": [],
   "source": []
  },
  {
   "cell_type": "code",
   "execution_count": 4,
   "id": "2c8b746b-df47-425a-ad8d-2a3505da3308",
   "metadata": {},
   "outputs": [],
   "source": [
    "# utilities\n",
    "from cbfverify_barrier_fastlin import get_weights"
   ]
  },
  {
   "cell_type": "code",
   "execution_count": 5,
   "id": "715ef395-bf0b-404f-84dc-49fa30c0f833",
   "metadata": {},
   "outputs": [],
   "source": [
    "# 1-layer network with ReLU activation\n",
    "dim_in, dim_out, num_hidden, num_batch = 3, 1, 256, 1\n",
    "model = nn.Sequential(\n",
    "    nn.Linear(dim_in,num_hidden),\n",
    "    nn.ReLU(),\n",
    "    nn.Linear(num_hidden,num_hidden),\n",
    "    nn.ReLU(),\n",
    "    nn.Linear(num_hidden,dim_out)\n",
    ")"
   ]
  },
  {
   "cell_type": "code",
   "execution_count": 6,
   "id": "4050c39f-aece-41f5-bea6-fbafb91f173f",
   "metadata": {},
   "outputs": [
    {
     "data": {
      "text/plain": [
       "Sequential(\n",
       "  (0): Linear(in_features=3, out_features=256, bias=True)\n",
       "  (1): ReLU()\n",
       "  (2): Linear(in_features=256, out_features=256, bias=True)\n",
       "  (3): ReLU()\n",
       "  (4): Linear(in_features=256, out_features=1, bias=True)\n",
       ")"
      ]
     },
     "execution_count": 6,
     "metadata": {},
     "output_type": "execute_result"
    }
   ],
   "source": [
    "def init_weights(m):\n",
    "    if isinstance(m, nn.Linear):\n",
    "        torch.nn.init.xavier_uniform_(m.weight)\n",
    "        m.bias.data.fill_(0.01)\n",
    "\n",
    "model.apply(init_weights)"
   ]
  },
  {
   "cell_type": "code",
   "execution_count": 7,
   "id": "b21822ac-dc13-4f82-a69d-7cedfd78bc8d",
   "metadata": {},
   "outputs": [
    {
     "name": "stdout",
     "output_type": "stream",
     "text": [
      "W0:torch.Size([256, 3])\n",
      "b0:torch.Size([256])\n",
      "W1:torch.Size([256, 256])\n",
      "b1:torch.Size([256])\n",
      "W2:torch.Size([1, 256])\n",
      "b2:torch.Size([1])\n"
     ]
    }
   ],
   "source": [
    "Ws, bs = get_weights(model)"
   ]
  },
  {
   "cell_type": "code",
   "execution_count": 8,
   "id": "22512100-0db5-4493-b454-d8d64cc0cb7a",
   "metadata": {},
   "outputs": [],
   "source": [
    "# 1k samples\n",
    "num_sample = 1000\n",
    "x0 = torch.rand(dim_in,num_sample) # shape: (dim_in, num_batch)"
   ]
  },
  {
   "cell_type": "code",
   "execution_count": 9,
   "id": "7e9dab6b-9741-4f1a-b701-cb7904ee93cd",
   "metadata": {},
   "outputs": [],
   "source": [
    "# perturbation magnitude\n",
    "eps = 0.1"
   ]
  },
  {
   "cell_type": "code",
   "execution_count": null,
   "id": "a1aed69e-1f9e-4c35-9913-e73fda375741",
   "metadata": {},
   "outputs": [],
   "source": []
  },
  {
   "cell_type": "markdown",
   "id": "96e74e53-2d70-4015-987d-171335b9e90a",
   "metadata": {},
   "source": [
    "## FastLin bounds, ReLU, Multi-Layer"
   ]
  },
  {
   "cell_type": "code",
   "execution_count": 10,
   "id": "639311fd-0725-4573-907c-9679abe2f2d9",
   "metadata": {},
   "outputs": [],
   "source": [
    "from cbfverify_barrier_fastlin_batch import get_barrier_bounds_fastlin_batch_mult_layers"
   ]
  },
  {
   "cell_type": "code",
   "execution_count": 11,
   "id": "b476d682-d4fc-4621-acd6-09dd8fd0a7ed",
   "metadata": {},
   "outputs": [
    {
     "name": "stdout",
     "output_type": "stream",
     "text": [
      "Time elapsed: 0.9251308441162109\n"
     ]
    }
   ],
   "source": [
    "device = torch.device(\"cuda\" if torch.cuda.is_available() else \"cpu\")\n",
    "for w in Ws:\n",
    "    w.to(device)\n",
    "for b in bs:\n",
    "    b.to(device)\n",
    "x0.to(device)\n",
    "start = time.time()\n",
    "UBs, LBs = get_barrier_bounds_fastlin_batch_mult_layers(x0, eps, Ws, bs, method=\"fastlin\", activation=\"relu\")\n",
    "fastlin_elapsed_batch = time.time() - start\n",
    "print(\"Time elapsed: {}\".format(fastlin_elapsed_batch))"
   ]
  },
  {
   "cell_type": "code",
   "execution_count": 12,
   "id": "284341e9-fbdb-4967-88ec-f564beb75408",
   "metadata": {},
   "outputs": [],
   "source": [
    "all_outs = []\n",
    "x = x0.clone().T\n",
    "all_outs.append(x.T)\n",
    "for layer in model:\n",
    "    x = layer(x)\n",
    "    if type(layer) == nn.modules.linear.Linear:\n",
    "        all_outs.append(x.detach().T)"
   ]
  },
  {
   "cell_type": "code",
   "execution_count": null,
   "id": "deee06ff-295e-4ee9-9854-31740dd1999f",
   "metadata": {},
   "outputs": [],
   "source": []
  },
  {
   "cell_type": "code",
   "execution_count": 13,
   "id": "5682b54d-5e59-4670-a622-6fe43626218f",
   "metadata": {},
   "outputs": [
    {
     "name": "stdout",
     "output_type": "stream",
     "text": [
      "Passed!\n"
     ]
    }
   ],
   "source": [
    "# Test bound\n",
    "for layer_out, LB, UB in zip(all_outs, LBs, UBs):\n",
    "    assert all((layer_out > LB).cpu().numpy().tolist()[0]), \"Lower bound violation\"\n",
    "    assert all((layer_out < UB).cpu().numpy().tolist()[0]), \"Upper bound violation\"\n",
    "print(\"Passed!\")"
   ]
  },
  {
   "cell_type": "code",
   "execution_count": null,
   "id": "9c957229-f006-4602-b655-f8a757671ea0",
   "metadata": {},
   "outputs": [],
   "source": []
  },
  {
   "cell_type": "markdown",
   "id": "7165bd88-12a3-4d9a-a30c-fc0391088b20",
   "metadata": {},
   "source": [
    "## Compare bound tightness between FastLin and IBP, multi-layer"
   ]
  },
  {
   "cell_type": "code",
   "execution_count": 14,
   "id": "cec01840-4be7-47d5-a2f4-6138960de0e4",
   "metadata": {},
   "outputs": [],
   "source": [
    "from cbfverify_barrier_fastlin import get_barrier_bounds_ibp"
   ]
  },
  {
   "cell_type": "code",
   "execution_count": 15,
   "id": "589400d6-61ad-4bca-9457-989d39eaddc0",
   "metadata": {},
   "outputs": [],
   "source": [
    "num_sample = 1\n",
    "x0 = torch.rand(dim_in,num_sample) # shape: (dim_in, num_batch)"
   ]
  },
  {
   "cell_type": "code",
   "execution_count": 16,
   "id": "e0e4e6b5-b5bf-483e-bd54-553f5d0d1092",
   "metadata": {},
   "outputs": [],
   "source": [
    "model_out = model(x0.T)"
   ]
  },
  {
   "cell_type": "code",
   "execution_count": 17,
   "id": "47f61965-4d0d-4563-84b7-7a29061bad16",
   "metadata": {},
   "outputs": [],
   "source": [
    "fastlin_UBs, fastlin_LBs = get_barrier_bounds_fastlin_batch_mult_layers(x0, eps, Ws, bs, method=\"fastlin\", activation=\"relu\")"
   ]
  },
  {
   "cell_type": "code",
   "execution_count": 18,
   "id": "fc4d084f-67e8-43ca-93f1-9f8ef75f7643",
   "metadata": {},
   "outputs": [],
   "source": [
    "ibp_UBs, ibp_LBs = get_barrier_bounds_ibp(x0, eps, Ws, bs, activation=\"relu\")"
   ]
  },
  {
   "cell_type": "code",
   "execution_count": 19,
   "id": "36ea917a-2d1a-48b9-902e-e59a5f957822",
   "metadata": {},
   "outputs": [
    {
     "data": {
      "text/plain": [
       "<matplotlib.collections.PathCollection at 0x7fe188249890>"
      ]
     },
     "execution_count": 19,
     "metadata": {},
     "output_type": "execute_result"
    },
    {
     "data": {
      "image/png": "[encoded data removed]",
      "text/plain": [
       "<Figure size 432x288 with 1 Axes>"
      ]
     },
     "metadata": {
      "needs_background": "light"
     },
     "output_type": "display_data"
    }
   ],
   "source": [
    "plt.scatter([0 for _ in range(5)], [-1.5, 1.5, 0.08, -0.09, -0.5])"
   ]
  },
  {
   "cell_type": "code",
   "execution_count": 20,
   "id": "7a6ae079-5b8d-44bc-bae1-86804715e9c9",
   "metadata": {},
   "outputs": [
    {
     "data": {
      "text/plain": [
       "<matplotlib.legend.Legend at 0x7fe180432310>"
      ]
     },
     "execution_count": 20,
     "metadata": {},
     "output_type": "execute_result"
    },
    {
     "data": {
      "image/png": "[encoded data removed]",
      "text/plain": [
       "<Figure size 432x288 with 1 Axes>"
      ]
     },
     "metadata": {
      "needs_background": "light"
     },
     "output_type": "display_data"
    }
   ],
   "source": [
    "dot_size = 25\n",
    "plt.scatter([0, 0], \n",
    "            [ibp_UBs[-1].squeeze().item(), ibp_LBs[-1].squeeze().item()], \n",
    "            label=\"ibp_bounds\", \n",
    "            c='g',\n",
    "            marker='x', \n",
    "            s=dot_size)\n",
    "plt.scatter([0, 0], \n",
    "            [fastlin_UBs[-1].squeeze().item(), fastlin_LBs[-1].squeeze().item()], \n",
    "            label=\"ibp_bounds\",\n",
    "            c='b',\n",
    "            marker='x', \n",
    "            s=dot_size)\n",
    "plt.scatter(0, \n",
    "            model_out.squeeze().item(), \n",
    "            label=\"model_out\", \n",
    "            c='r',\n",
    "            marker='o', \n",
    "            s=dot_size)\n",
    "\n",
    "plt.legend()"
   ]
  },
  {
   "cell_type": "code",
   "execution_count": null,
   "id": "7d2ee030-0e82-4234-aa17-fa3e03a1e42d",
   "metadata": {},
   "outputs": [],
   "source": []
  }
 ],
 "metadata": {
  "kernelspec": {
   "display_name": "Python [conda env:neural_cbf]",
   "language": "python",
   "name": "conda-env-neural_cbf-py"
  },
  "language_info": {
   "codemirror_mode": {
    "name": "ipython",
    "version": 3
   },
   "file_extension": ".py",
   "mimetype": "text/x-python",
   "name": "python",
   "nbconvert_exporter": "python",
   "pygments_lexer": "ipython3",
   "version": "3.7.11"
  }
 },
 "nbformat": 4,
 "nbformat_minor": 5
}
